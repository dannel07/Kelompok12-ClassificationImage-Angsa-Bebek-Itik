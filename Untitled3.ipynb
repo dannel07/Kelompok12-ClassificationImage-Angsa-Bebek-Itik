{
 "cells": [
  {
   "cell_type": "code",
   "execution_count": 1,
   "id": "9523a33f-478b-4efd-9480-2c9b9b7847d5",
   "metadata": {},
   "outputs": [],
   "source": [
    "import tensorflow as tf\n",
    "from tensorflow.keras.models import Sequential\n",
    "from tensorflow.keras.layers import Conv2D, MaxPooling2D, Flatten, Dense, Dropout, BatchNormalization\n",
    "from tensorflow.keras.preprocessing.image import ImageDataGenerator\n",
    "from tensorflow.keras.optimizers import Adam\n",
    "from tensorflow.keras.callbacks import EarlyStopping, ModelCheckpoint\n",
    "import matplotlib.pyplot as plt"
   ]
  },
  {
   "cell_type": "code",
   "execution_count": 2,
   "id": "6afbd515-4ef9-472a-b05a-603b707052c5",
   "metadata": {},
   "outputs": [],
   "source": [
    "# Direktori dataset\n",
    "base_dir = r\"G:\\Semester 3\\Kecerdasan Buatan (CERTAN)\\Week 16\\dataset\""
   ]
  },
  {
   "cell_type": "code",
   "execution_count": 5,
   "id": "723d1847-abab-4d7c-b12e-967dc23be7cc",
   "metadata": {},
   "outputs": [],
   "source": [
    "# Fungsi untuk rotasi gambar dengan sudut istimewa\n",
    "def rotate_image(image, angle):\n",
    "    (h, w) = image.shape[:2]\n",
    "    center = (w // 2, h // 2)\n",
    "    matrix = cv2.getRotationMatrix2D(center, angle, 1.0)\n",
    "    return cv2.warpAffine(image, matrix, (w, h))\n",
    "\n",
    "# Fungsi augmentasi kustom menggunakan TensorFlow\n",
    "def custom_augment(image, label):\n",
    "    # Pilihan sudut istimewa\n",
    "    angles = [0, 30, 45, 60, 90, 120, 135, 150, 180, 210, 225, 240, 270, 300, 315, 330]\n",
    "    angle = np.random.choice(angles)  # Pilih sudut secara acak\n",
    "    image = tf.numpy_function(rotate_image, [image, angle], tf.float32)\n",
    "    image.set_shape([224, 224, 3])  \n",
    "    return image, label\n"
   ]
  },
  {
   "cell_type": "code",
   "execution_count": 6,
   "id": "fd15fc1e-3781-4b52-aca8-4a793b9d4453",
   "metadata": {},
   "outputs": [],
   "source": [
    "# Augmentasi standar untuk data latih\n",
    "train_datagen = ImageDataGenerator(\n",
    "    rescale=1.0/255,  # Normalisasi gambar ke rentang [0, 1]\n",
    "    width_shift_range=0.2,\n",
    "    height_shift_range=0.2,\n",
    "    shear_range=0.2,\n",
    "    zoom_range=0.3,\n",
    "    horizontal_flip=True,\n",
    "    brightness_range=[0.8, 1.2],  # Menambahkan variasi kecerahan\n",
    "    channel_shift_range=20.0,     # Menambahkan variasi dalam saluran warna\n",
    "    fill_mode='nearest'           # Mengisi pixel kosong setelah transformasi\n",
    ")\n",
    "\n",
    "# Augmentasi untuk data validasi (hanya normalisasi)\n",
    "val_datagen = ImageDataGenerator(rescale=1.0/255)\n"
   ]
  },
  {
   "cell_type": "code",
   "execution_count": 9,
   "id": "ab698ba1-643e-4425-a6fa-ae6967e1a35b",
   "metadata": {},
   "outputs": [
    {
     "name": "stdout",
     "output_type": "stream",
     "text": [
      "Found 2920 images belonging to 3 classes.\n",
      "Found 480 images belonging to 3 classes.\n"
     ]
    }
   ],
   "source": [
    "import os\n",
    "# Membaca data pelatihan dengan augmentasi standar\n",
    "train_generator = train_datagen.flow_from_directory(\n",
    "    os.path.join(base_dir, \"train\"),\n",
    "    target_size=(224, 224),\n",
    "    batch_size=32,\n",
    "    class_mode=\"sparse\",  # Menggunakan sparse untuk label dalam bentuk integer\n",
    "    shuffle=True\n",
    ")\n",
    "\n",
    "# Membaca data validasi\n",
    "val_generator = val_datagen.flow_from_directory(\n",
    "    os.path.join(base_dir, \"validation\"),\n",
    "    target_size=(224, 224),\n",
    "    batch_size=32,\n",
    "    class_mode=\"sparse\",  # Menggunakan sparse untuk label dalam bentuk integer\n",
    "    shuffle=False\n",
    ")\n"
   ]
  },
  {
   "cell_type": "code",
   "execution_count": 10,
   "id": "f5886d4a-ff78-45d3-ac19-bf649b3c8392",
   "metadata": {},
   "outputs": [],
   "source": [
    "from tensorflow.keras.models import Sequential\n",
    "from tensorflow.keras.layers import Conv2D, MaxPooling2D, Flatten, Dense, Dropout, BatchNormalization, Input\n",
    "from tensorflow.keras.callbacks import EarlyStopping, ReduceLROnPlateau\n",
    "\n",
    "# Model CNN\n",
    "model = Sequential([\n",
    "    Input(shape=(224, 224, 3)),  # Menambahkan Input layer untuk mendefinisikan bentuk input\n",
    "    Conv2D(32, (3, 3), activation=\"relu\", padding=\"same\"),\n",
    "    BatchNormalization(),\n",
    "    MaxPooling2D((2, 2)),\n",
    "    \n",
    "    Conv2D(64, (3, 3), activation=\"relu\", padding=\"same\"),\n",
    "    BatchNormalization(),\n",
    "    MaxPooling2D((2, 2)),\n",
    "    \n",
    "    Conv2D(128, (3, 3), activation=\"relu\", padding=\"same\"),\n",
    "    BatchNormalization(),\n",
    "    MaxPooling2D((2, 2)),\n",
    "    \n",
    "    Conv2D(256, (3, 3), activation=\"relu\", padding=\"same\"),\n",
    "    BatchNormalization(),\n",
    "    MaxPooling2D((2, 2)),\n",
    "    \n",
    "    Flatten(),\n",
    "    Dense(256, activation=\"relu\"),\n",
    "    Dropout(0.5),\n",
    "    Dense(3, activation=\"softmax\")  # Output untuk 3 kelas\n",
    "])\n",
    "\n",
    "# Kompilasi model\n",
    "model.compile(\n",
    "    optimizer=tf.keras.optimizers.Adam(learning_rate=0.0001),\n",
    "    loss=\"sparse_categorical_crossentropy\",  # Loss untuk multi-kelas\n",
    "    metrics=[\"accuracy\"]\n",
    ")\n",
    "\n",
    "# Menambahkan callback untuk Early Stopping dan Penyesuaian Learning Rate\n",
    "early_stopping = EarlyStopping(monitor=\"val_loss\", patience=5, restore_best_weights=True)\n",
    "lr_reduction = ReduceLROnPlateau(monitor=\"val_loss\", patience=3, factor=0.1, min_lr=1e-7)\n",
    "\n",
    "# Melatih model (pastikan data sudah disiapkan)\n",
    "# model.fit(train_dataset, epochs=50, validation_data=val_dataset, callbacks=[early_stopping, lr_reduction])\n"
   ]
  },
  {
   "cell_type": "code",
   "execution_count": 11,
   "id": "289663f4-b28f-4e38-ba11-d6dcd33d087f",
   "metadata": {},
   "outputs": [
    {
     "name": "stderr",
     "output_type": "stream",
     "text": [
      "C:\\Users\\DS\\anaconda3\\Lib\\site-packages\\keras\\src\\trainers\\data_adapters\\py_dataset_adapter.py:121: UserWarning: Your `PyDataset` class should call `super().__init__(**kwargs)` in its constructor. `**kwargs` can include `workers`, `use_multiprocessing`, `max_queue_size`. Do not pass these arguments to `fit()`, as they will be ignored.\n",
      "  self._warn_if_super_not_called()\n"
     ]
    },
    {
     "name": "stdout",
     "output_type": "stream",
     "text": [
      "Epoch 1/10\n",
      "\u001b[1m92/92\u001b[0m \u001b[32m━━━━━━━━━━━━━━━━━━━━\u001b[0m\u001b[37m\u001b[0m \u001b[1m0s\u001b[0m 3s/step - accuracy: 0.5435 - loss: 2.1515"
     ]
    },
    {
     "name": "stderr",
     "output_type": "stream",
     "text": [
      "C:\\Users\\DS\\anaconda3\\Lib\\site-packages\\keras\\src\\trainers\\data_adapters\\py_dataset_adapter.py:121: UserWarning: Your `PyDataset` class should call `super().__init__(**kwargs)` in its constructor. `**kwargs` can include `workers`, `use_multiprocessing`, `max_queue_size`. Do not pass these arguments to `fit()`, as they will be ignored.\n",
      "  self._warn_if_super_not_called()\n"
     ]
    },
    {
     "name": "stdout",
     "output_type": "stream",
     "text": [
      "\u001b[1m92/92\u001b[0m \u001b[32m━━━━━━━━━━━━━━━━━━━━\u001b[0m\u001b[37m\u001b[0m \u001b[1m257s\u001b[0m 3s/step - accuracy: 0.5438 - loss: 2.1448 - val_accuracy: 0.3333 - val_loss: 2.4195\n",
      "Epoch 2/10\n",
      "\u001b[1m92/92\u001b[0m \u001b[32m━━━━━━━━━━━━━━━━━━━━\u001b[0m\u001b[37m\u001b[0m \u001b[1m225s\u001b[0m 2s/step - accuracy: 0.6147 - loss: 0.8741 - val_accuracy: 0.3688 - val_loss: 1.9312\n",
      "Epoch 3/10\n",
      "\u001b[1m92/92\u001b[0m \u001b[32m━━━━━━━━━━━━━━━━━━━━\u001b[0m\u001b[37m\u001b[0m \u001b[1m206s\u001b[0m 2s/step - accuracy: 0.6372 - loss: 0.8121 - val_accuracy: 0.5479 - val_loss: 1.6073\n",
      "Epoch 4/10\n",
      "\u001b[1m92/92\u001b[0m \u001b[32m━━━━━━━━━━━━━━━━━━━━\u001b[0m\u001b[37m\u001b[0m \u001b[1m207s\u001b[0m 2s/step - accuracy: 0.6586 - loss: 0.7916 - val_accuracy: 0.5750 - val_loss: 1.0498\n",
      "Epoch 5/10\n",
      "\u001b[1m92/92\u001b[0m \u001b[32m━━━━━━━━━━━━━━━━━━━━\u001b[0m\u001b[37m\u001b[0m \u001b[1m206s\u001b[0m 2s/step - accuracy: 0.6559 - loss: 0.7707 - val_accuracy: 0.5792 - val_loss: 0.8933\n",
      "Epoch 6/10\n",
      "\u001b[1m92/92\u001b[0m \u001b[32m━━━━━━━━━━━━━━━━━━━━\u001b[0m\u001b[37m\u001b[0m \u001b[1m275s\u001b[0m 3s/step - accuracy: 0.6283 - loss: 0.8073 - val_accuracy: 0.6125 - val_loss: 0.7493\n",
      "Epoch 7/10\n",
      "\u001b[1m92/92\u001b[0m \u001b[32m━━━━━━━━━━━━━━━━━━━━\u001b[0m\u001b[37m\u001b[0m \u001b[1m286s\u001b[0m 3s/step - accuracy: 0.6784 - loss: 0.7585 - val_accuracy: 0.6146 - val_loss: 0.7376\n",
      "Epoch 8/10\n",
      "\u001b[1m92/92\u001b[0m \u001b[32m━━━━━━━━━━━━━━━━━━━━\u001b[0m\u001b[37m\u001b[0m \u001b[1m286s\u001b[0m 3s/step - accuracy: 0.6632 - loss: 0.7449 - val_accuracy: 0.6083 - val_loss: 0.6997\n",
      "Epoch 9/10\n",
      "\u001b[1m92/92\u001b[0m \u001b[32m━━━━━━━━━━━━━━━━━━━━\u001b[0m\u001b[37m\u001b[0m \u001b[1m282s\u001b[0m 3s/step - accuracy: 0.6734 - loss: 0.7445 - val_accuracy: 0.6208 - val_loss: 0.6984\n",
      "Epoch 10/10\n",
      "\u001b[1m92/92\u001b[0m \u001b[32m━━━━━━━━━━━━━━━━━━━━\u001b[0m\u001b[37m\u001b[0m \u001b[1m283s\u001b[0m 3s/step - accuracy: 0.6744 - loss: 0.7314 - val_accuracy: 0.6187 - val_loss: 0.7405\n",
      "Restoring model weights from the end of the best epoch: 9.\n"
     ]
    }
   ],
   "source": [
    "from tensorflow.keras.callbacks import EarlyStopping\n",
    "\n",
    "# Menyiapkan EarlyStopping\n",
    "early_stopping = EarlyStopping(\n",
    "    monitor=\"val_loss\", \n",
    "    patience=5,  \n",
    "    restore_best_weights=True,\n",
    "    verbose=1  \n",
    ")\n",
    "\n",
    "# Latih model \n",
    "history = model.fit(\n",
    "    train_generator,\n",
    "    validation_data=val_generator,\n",
    "    epochs=10,\n",
    "    callbacks=[early_stopping],\n",
    "    verbose=1  # Menampilkan progres pelatihan\n",
    ")\n"
   ]
  },
  {
   "cell_type": "code",
   "execution_count": 12,
   "id": "a7fb4afb-2118-424b-9159-34b87b41d136",
   "metadata": {},
   "outputs": [
    {
     "data": {
      "image/png": "[encoded data removed]",
      "text/plain": [
       "<Figure size 1200x500 with 2 Axes>"
      ]
     },
     "metadata": {},
     "output_type": "display_data"
    }
   ],
   "source": [
    "import matplotlib.pyplot as plt\n",
    "\n",
    "plt.figure(figsize=(12, 5))\n",
    "\n",
    "# Akurasi\n",
    "plt.subplot(1, 2, 1)\n",
    "plt.plot(history.history['accuracy'], label='Train Accuracy')\n",
    "plt.plot(history.history['val_accuracy'], label='Validation Accuracy')\n",
    "plt.legend()\n",
    "plt.title('Accuracy')\n",
    "\n",
    "# Loss\n",
    "plt.subplot(1, 2, 2)\n",
    "plt.plot(history.history['loss'], label='Train Loss')\n",
    "plt.plot(history.history['val_loss'], label='Validation Loss')\n",
    "plt.legend()\n",
    "plt.title('Loss')\n",
    "\n",
    "plt.savefig(\"evaluation.png\")\n",
    "plt.show()\n"
   ]
  },
  {
   "cell_type": "code",
   "execution_count": 17,
   "id": "382cfb89-f3c4-4798-887f-db3194133cc1",
   "metadata": {},
   "outputs": [
    {
     "name": "stderr",
     "output_type": "stream",
     "text": [
      "WARNING:absl:You are saving your model as an HDF5 file via `model.save()` or `keras.saving.save_model(model)`. This file format is considered legacy. We recommend using instead the native Keras format, e.g. `model.save('my_model.keras')` or `keras.saving.save_model(model, 'my_model.keras')`. \n"
     ]
    }
   ],
   "source": [
    "# Menyimpan model dalam format .h5\n",
    "model.save('model_evaluasi.h5')\n",
    "model.save('model_evaluasi.keras')"
   ]
  },
  {
   "cell_type": "code",
   "execution_count": 19,
   "id": "2c0ba8f9-37ba-4a0a-bdf9-d26443a62b78",
   "metadata": {},
   "outputs": [
    {
     "name": "stderr",
     "output_type": "stream",
     "text": [
      "C:\\Users\\DS\\anaconda3\\Lib\\site-packages\\keras\\src\\saving\\saving_lib.py:719: UserWarning: Skipping variable loading for optimizer 'rmsprop', because it has 22 variables whereas the saved optimizer has 42 variables. \n",
      "  saveable.load_own_variables(weights_store.get(inner_path))\n"
     ]
    },
    {
     "name": "stdout",
     "output_type": "stream",
     "text": [
      "\u001b[1m15/15\u001b[0m \u001b[32m━━━━━━━━━━━━━━━━━━━━\u001b[0m\u001b[37m\u001b[0m \u001b[1m6s\u001b[0m 356ms/step - accuracy: 0.8299 - loss: 0.4378\n",
      "Test Accuracy: 0.6208333373069763\n",
      "Test Loss: 0.698438286781311\n"
     ]
    }
   ],
   "source": [
    "# Memuat model yang disimpan\n",
    "loaded_model = tf.keras.models.load_model(\"model_evaluasi.keras\")\n",
    "\n",
    "# Melakukan prediksi atau evaluasi pada data uji\n",
    "test_loss, test_acc = loaded_model.evaluate(val_generator, verbose=1)\n",
    "\n",
    "print(f\"Test Accuracy: {test_acc}\")\n",
    "print(f\"Test Loss: {test_loss}\")\n"
   ]
  },
  {
   "cell_type": "code",
   "execution_count": 30,
   "id": "69255e5d-5da6-471a-8daa-218693fde33b",
   "metadata": {},
   "outputs": [
    {
     "name": "stdout",
     "output_type": "stream",
     "text": [
      "\u001b[1m1/1\u001b[0m \u001b[32m━━━━━━━━━━━━━━━━━━━━\u001b[0m\u001b[37m\u001b[0m \u001b[1m0s\u001b[0m 67ms/step\n",
      "Predicted class: Itik\n",
      "Predicted probability: 70.38%\n"
     ]
    }
   ],
   "source": [
    "import tensorflow as tf\n",
    "import numpy as np\n",
    "\n",
    "# Path ke gambar yang ingin diuji\n",
    "image_path = r\"G:\\Semester 3\\Kecerdasan Buatan (CERTAN)\\Week 16\\dataset\\test\\Itik\\KJRSWYEKZDQH.jpg\"  # Ganti dengan path gambar yang ingin diuji\n",
    "\n",
    "# Memuat gambar dan melakukan preprocessing\n",
    "img = tf.keras.preprocessing.image.load_img(image_path, target_size=(224, 224))\n",
    "img_array = tf.keras.preprocessing.image.img_to_array(img)\n",
    "img_array = tf.expand_dims(img_array, 0)  # Menambahkan dimensi batch\n",
    "\n",
    "# Normalisasi gambar agar sesuai dengan preprocessing model\n",
    "img_array = img_array / 255.0\n",
    "\n",
    "# Melakukan prediksi menggunakan model yang sudah dilatih\n",
    "predictions = model.predict(img_array)\n",
    "\n",
    "# Mendapatkan indeks kelas dengan probabilitas tertinggi\n",
    "predicted_class_index = np.argmax(predictions, axis=-1)[0]\n",
    "\n",
    "# Menampilkan hasil prediksi: nama kelas dan probabilitas\n",
    "class_names = [\"Angsa\", \"Bebek\", \"Itik\"]  # Ganti dengan nama kelas yang sesuai\n",
    "predicted_class_name = class_names[predicted_class_index]\n",
    "\n",
    "# Menampilkan persentase akurasi\n",
    "predicted_probability = predictions[0][predicted_class_index] * 100\n",
    "\n",
    "print(f\"Predicted class: {predicted_class_name}\")\n",
    "print(f\"Predicted probability: {predicted_probability:.2f}%\")\n"
   ]
  },
  {
   "cell_type": "code",
   "execution_count": null,
   "id": "b42ebcbc-b6d5-43e6-aee2-54a2b7c3a6db",
   "metadata": {},
   "outputs": [],
   "source": []
  }
 ],
 "metadata": {
  "kernelspec": {
   "display_name": "Python 3 (ipykernel)",
   "language": "python",
   "name": "python3"
  },
  "language_info": {
   "codemirror_mode": {
    "name": "ipython",
    "version": 3
   },
   "file_extension": ".py",
   "mimetype": "text/x-python",
   "name": "python",
   "nbconvert_exporter": "python",
   "pygments_lexer": "ipython3",
   "version": "3.12.4"
  }
 },
 "nbformat": 4,
 "nbformat_minor": 5
}
